{
  "nbformat": 4,
  "nbformat_minor": 0,
  "metadata": {
    "colab": {
      "name": "LS_DS_123_Introduction_to_Bayesian_Inference_Assignment.ipynb",
      "provenance": [],
      "include_colab_link": true
    },
    "kernelspec": {
      "name": "python3",
      "display_name": "Python 3"
    }
  },
  "cells": [
    {
      "cell_type": "markdown",
      "metadata": {
        "id": "view-in-github",
        "colab_type": "text"
      },
      "source": [
        "<a href=\"https://colab.research.google.com/github/cdixson-ds/DS-Unit-2-Regression-1/blob/master/LS_DS_123_Introduction_to_Bayesian_Inference_Assignment.ipynb\" target=\"_parent\"><img src=\"https://colab.research.google.com/assets/colab-badge.svg\" alt=\"Open In Colab\"/></a>"
      ]
    },
    {
      "cell_type": "markdown",
      "metadata": {
        "id": "H7OLbevlbd_Z",
        "colab_type": "text"
      },
      "source": [
        "# Lambda School Data Science Module 123\n",
        "\n",
        "## Introduction to Bayesian Inference\n",
        "\n",
        "\n"
      ]
    },
    {
      "cell_type": "markdown",
      "metadata": {
        "id": "P-DzzRk5bf0z",
        "colab_type": "text"
      },
      "source": [
        "## Assignment - Code it up!\n",
        "\n",
        "We used pure math to apply Bayes Theorem to drug tests. Now write Python code to reproduce the results! This is purposefully open ended - you'll have to think about how you should represent probabilities and events. You can and should look things up.\n",
        "\n",
        "Specific goals/targets:\n",
        "\n",
        "### 1) Write a function \n",
        "\n",
        "def prob_drunk_given_positive(prob_drunk_prior, false_positive_rate, true_positive_rate):\n",
        "\n",
        "In this example, imagine that individuals are taking a breathalyzer test with an 8% false positive rate, a 100% true positive rate, and that our prior belief about drunk driving in the population is 1/1000.\n",
        "What is the probability that a person is drunk after one positive breathalyzer test?\n",
        "\n",
        "What is the probability that a person is drunk after two positive breathalyzer tests?\n",
        "\n",
        "How many positive breathalyzer tests are needed in order to have a probability that's greater than 95% that a person is drunk beyond the legal limit?\n",
        "\n",
        "### 2) Explore `scipy.stats.bayes_mvs`  \n",
        "Read its documentation, and experiment with it on data you've tested in other ways earlier this week.\n",
        " - Create a visualization comparing the results of a Bayesian approach to a traditional/frequentist approach. (with a large sample size they should look close to identical, however, take this opportunity to practice visualizing condfidence intervals in general. The following are some potential ways that you could visualize confidence intervals on your graph:\n",
        "  - [Matplotlib Error Bars](https://matplotlib.org/3.1.1/api/_as_gen/matplotlib.pyplot.errorbar.html)\n",
        "  - [Seaborn barplot with error bars](https://seaborn.pydata.org/generated/seaborn.barplot.html)\n",
        "  - [Vertical ines to show bounds of confidence interval](https://www.simplypsychology.org/confidence-interval.jpg)\n",
        "  - [Confidence Intervals on Box Plots](https://matplotlib.org/3.1.1/api/_as_gen/matplotlib.axes.Axes.boxplot.html)\n",
        "\n",
        "### 3) In your own words, summarize the difference between Bayesian and Frequentist statistics\n",
        "\n",
        "If you're unsure where to start, check out [this blog post of Bayes theorem with Python](https://dataconomy.com/2015/02/introduction-to-bayes-theorem-with-python/).\n",
        "\n"
      ]
    },
    {
      "cell_type": "markdown",
      "metadata": {
        "id": "10-Uua_1e81N",
        "colab_type": "text"
      },
      "source": [
        "**Drunk Driving Example**"
      ]
    },
    {
      "cell_type": "code",
      "metadata": {
        "id": "xpVhZyUnbf7o",
        "colab_type": "code",
        "colab": {}
      },
      "source": [
        "# TODO - code!\n",
        "\n",
        "prior_probability = 1/1000 # Our belief about the number of drunk drivers\n",
        "\n",
        "#P(User) is our \"Prior Probability\"\n",
        "p_drunk = prior_probability\n",
        "p_pos_given_drunk = 1 # True Positive Rate\n",
        "p_pos_given_non_drunk = .08 # False Positive Rate\n",
        "p_non_drunk = 1 - p_drunk\n",
        "\n",
        "#posterior_probability is what comes out of Bayes Theorem"
      ],
      "execution_count": 0,
      "outputs": []
    },
    {
      "cell_type": "code",
      "metadata": {
        "id": "L275sN4whJU2",
        "colab_type": "code",
        "outputId": "ade0ed63-d21a-400a-f1b8-7c9f61774846",
        "colab": {
          "base_uri": "https://localhost:8080/",
          "height": 35
        }
      },
      "source": [
        "#What comes out of Bayes Theorem\n",
        "#The results of one breathalizer test\n",
        "\n",
        "posterior_probability = (p_pos_given_drunk*p_drunk)/((p_pos_given_drunk*p_drunk)+(p_pos_given_non_drunk*p_non_drunk))\n",
        "posterior_probability"
      ],
      "execution_count": 0,
      "outputs": [
        {
          "output_type": "execute_result",
          "data": {
            "text/plain": [
              "0.012357884330202669"
            ]
          },
          "metadata": {
            "tags": []
          },
          "execution_count": 17
        }
      ]
    },
    {
      "cell_type": "code",
      "metadata": {
        "id": "Ft5n8tjzrlhL",
        "colab_type": "code",
        "colab": {}
      },
      "source": [
        "  # P(User) is our \"Prior Probability\"\n",
        "\n",
        "def prob_drunk_prior_funx():\n",
        "  prior_probability = 1/1000 # Our belief about the number of drunk drivers\n",
        "  p_drunk = prior_probability\n",
        "  p_pos_given_drunk = 1 # True Positive Rate\n",
        "  p_pos_given_non_drunk = .08 # False Positive Rate\n",
        "  p_non_drunk = 1 - p_drunk\n",
        "  return (p_pos_given_drunk*p_drunk)/((p_pos_given_drunk*p_drunk)+(p_pos_given_non_drunk*p_non_drunk))\n",
        "\n",
        "prob_drunk_prior = prob_drunk_prior_funx()"
      ],
      "execution_count": 0,
      "outputs": []
    },
    {
      "cell_type": "code",
      "metadata": {
        "id": "yM4G-szhkLw9",
        "colab_type": "code",
        "colab": {}
      },
      "source": [
        "#The results of a second breathalizer test\n",
        "#posterior probability from the first application becomes\n",
        "#the prior probability during the second application\n",
        "\n",
        "p_drunk = posterior_probability\n",
        "p_pos_given_drunk = 1\n",
        "p_post_given_non_drunk = .08\n",
        "p_non_drunk = 1 - p_drunk"
      ],
      "execution_count": 0,
      "outputs": []
    },
    {
      "cell_type": "code",
      "metadata": {
        "id": "5_N9no8non0y",
        "colab_type": "code",
        "outputId": "3af5cc0a-427e-4bee-fbe4-4d9302a087e5",
        "colab": {
          "base_uri": "https://localhost:8080/",
          "height": 35
        }
      },
      "source": [
        "posterior_probability = (p_pos_given_drunk*p_drunk)/((p_pos_given_drunk*p_drunk)+(p_pos_given_non_drunk*p_non_drunk))\n",
        "\n",
        "posterior_probability"
      ],
      "execution_count": 0,
      "outputs": [
        {
          "output_type": "execute_result",
          "data": {
            "text/plain": [
              "0.012357884330202669"
            ]
          },
          "metadata": {
            "tags": []
          },
          "execution_count": 19
        }
      ]
    },
    {
      "cell_type": "code",
      "metadata": {
        "id": "BHRrDxkJpzOz",
        "colab_type": "code",
        "outputId": "7873a7ad-4bc7-422a-9c59-717c62c7b56a",
        "colab": {
          "base_uri": "https://localhost:8080/",
          "height": 35
        }
      },
      "source": [
        "# P(User) is our \"Prior Probability\"\n",
        "\n",
        "def prob_drunk_prior_funx():\n",
        "  p_drunk = prior_probability\n",
        "  p_pos_given_drunk = 1 # True Positive Rate\n",
        "  p_pos_given_non_drunk = .08 # False Positive Rate\n",
        "  p_non_drunk = 1 - p_drunk\n",
        "  posterior_probability = (p_pos_given_drunk*p_drunk)/((p_pos_given_drunk*p_drunk)+(p_pos_given_non_drunk*p_non_drunk))\n",
        "  return posterior_probability\n",
        "\n",
        "posterior_probability"
      ],
      "execution_count": 0,
      "outputs": [
        {
          "output_type": "execute_result",
          "data": {
            "text/plain": [
              "0.012357884330202669"
            ]
          },
          "metadata": {
            "tags": []
          },
          "execution_count": 21
        }
      ]
    },
    {
      "cell_type": "code",
      "metadata": {
        "id": "OflxLocLCKRt",
        "colab_type": "code",
        "outputId": "98dbba87-691e-425d-ba87-78eb13134ccf",
        "colab": {
          "base_uri": "https://localhost:8080/",
          "height": 69
        }
      },
      "source": [
        "# 3 more times\n",
        "\n",
        "def prob_drunk_given_positive(prob_drunk_prior, false_positive_rate, true_positive_rate):\n",
        "  p_drunk = prob_drunk_prior\n",
        "  p_pos_given_drunk = true_positive_rate\n",
        "  p_pos_given_non_drunk = false_positive_rate\n",
        "  p_non_drunk = 1 - p_drunk\n",
        "  prob_drunk_prior = (true_positive_rate*p_drunk)/((true_positive_rate*p_drunk)+(false_positive_rate*p_non_drunk))\n",
        "  print(prob_drunk_prior)\n",
        "  while prob_drunk_prior <= .95:\n",
        "    p_drunk = prob_drunk_prior\n",
        "    p_non_drunk = 1 - p_drunk\n",
        "    prob_drunk_prior = (p_pos_given_drunk*p_drunk)/((p_pos_given_drunk*p_drunk)+(p_pos_given_non_drunk*p_non_drunk))\n",
        "    print(prob_drunk_prior)\n",
        "    if prob_drunk_prior == p_drunk:\n",
        "      break\n",
        "\n",
        "prob_drunk_given_positive(prob_drunk_prior, .08, 1)"
      ],
      "execution_count": 0,
      "outputs": [
        {
          "output_type": "stream",
          "text": [
            "0.13525210993291495\n",
            "0.6615996951348605\n",
            "0.9606895076105054\n"
          ],
          "name": "stdout"
        }
      ]
    },
    {
      "cell_type": "markdown",
      "metadata": {
        "id": "sHcGc1i9X3lZ",
        "colab_type": "text"
      },
      "source": [
        "**3) In your own words, summarize the difference between Bayesian and Frequentist statistics**\n",
        "\n",
        "Frequentist statistics do not consider prior probability, or in other words the rely entirely on the data that has been collected. For this reason they struggle with small sample sizes, and their preditions are more accurate with a larger dataset. \n",
        "\n",
        "Baeysian statistics use prior probability to guide their predictions, and as a result they do not need a large dataset in the same way that frequentists do. However, Baesyian statistics will not work will if the prior probability is wildly incorrect. \n",
        "\n",
        "In both cases, with a large enough sample size in the case of frequentist statistics, or enough iterations with Baesian statistics, both methods should arrive at approximately the same conclusion. "
      ]
    },
    {
      "cell_type": "markdown",
      "metadata": {
        "id": "uWgWjp3PQ3Sq",
        "colab_type": "text"
      },
      "source": [
        "## Resources"
      ]
    },
    {
      "cell_type": "markdown",
      "metadata": {
        "id": "QRgHqmYIQ9qn",
        "colab_type": "text"
      },
      "source": [
        "- [Worked example of Bayes rule calculation](https://en.wikipedia.org/wiki/Bayes'_theorem#Examples) (helpful as it fully breaks out the denominator)\n",
        "- [Source code for mvsdist in scipy](https://github.com/scipy/scipy/blob/90534919e139d2a81c24bf08341734ff41a3db12/scipy/stats/morestats.py#L139)"
      ]
    },
    {
      "cell_type": "markdown",
      "metadata": {
        "id": "GP7Jv1XvwtkX",
        "colab_type": "text"
      },
      "source": [
        "## Stretch Goals:\n",
        "\n",
        "- Go back and study the content from Modules 1 & 2 to make sure that you're really comfortable with them.\n",
        "- Apply a Bayesian technique to a problem you previously worked (in an assignment or project work) on from a frequentist (standard) perspective\n",
        "- Check out [PyMC3](https://docs.pymc.io/) (note this goes beyond hypothesis tests into modeling) - read the guides and work through some examples\n",
        "- Take PyMC3 further - see if you can build something with it!"
      ]
    },
    {
      "cell_type": "code",
      "metadata": {
        "id": "iDi0eFr1x-v_",
        "colab_type": "code",
        "colab": {}
      },
      "source": [
        ""
      ],
      "execution_count": 0,
      "outputs": []
    }
  ]
}